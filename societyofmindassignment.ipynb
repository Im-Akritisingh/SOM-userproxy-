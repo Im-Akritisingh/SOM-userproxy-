{
 "cells": [
  {
   "cell_type": "markdown",
   "id": "c68c9343",
   "metadata": {},
   "source": [
    "# Society of Minds(User Proxy)"
   ]
  },
  {
   "cell_type": "code",
   "execution_count": 1,
   "id": "b6b5e1cf",
   "metadata": {},
   "outputs": [],
   "source": [
    "import asyncio\n",
    "from autogen_agentchat.ui import Console\n",
    "from autogen_agentchat.agents import AssistantAgent, SocietyOfMindAgent\n",
    "from autogen_agentchat.agents import AssistantAgent, UserProxyAgent\n",
    "from autogen_ext.models.openai import OpenAIChatCompletionClient\n",
    "from autogen_agentchat.teams import RoundRobinGroupChat\n",
    "from autogen_agentchat.conditions import TextMentionTermination\n",
    "from dotenv import load_dotenv\n",
    "import os"
   ]
  },
  {
   "cell_type": "code",
   "execution_count": 2,
   "id": "3baefc8d",
   "metadata": {},
   "outputs": [],
   "source": [
    "# Load API key\n",
    "load_dotenv()\n",
    "api_key = os.getenv('Google_API_KEY')\n",
    "\n",
    "# Model client\n",
    "model_client = OpenAIChatCompletionClient(model='gemini-1.5-flash-8b', api_key=api_key)"
   ]
  },
  {
   "cell_type": "code",
   "execution_count": 3,
   "id": "809fbff1",
   "metadata": {},
   "outputs": [],
   "source": [
    "agent_1 = AssistantAgent(name='my_assistant',model_client=model_client)"
   ]
  },
  {
   "cell_type": "code",
   "execution_count": 4,
   "id": "ffbf6738",
   "metadata": {},
   "outputs": [],
   "source": [
    "response= await agent_1.run(task=\"Hi how are you?\")"
   ]
  },
  {
   "cell_type": "code",
   "execution_count": 5,
   "id": "56afb40c",
   "metadata": {},
   "outputs": [
    {
     "name": "stdout",
     "output_type": "stream",
     "text": [
      "I am doing well, thank you for asking.  How can I help you today?\n",
      "\n"
     ]
    }
   ],
   "source": [
    "print(response.messages[-1].content)"
   ]
  },
  {
   "cell_type": "code",
   "execution_count": 6,
   "id": "48a6052b",
   "metadata": {},
   "outputs": [],
   "source": [
    "interviewer = AssistantAgent(\n",
    "    name=\"assistant1\",\n",
    "    model_client=model_client,\n",
    "    system_message=(\n",
    "        \"You are an interviewer specialized in Data Science, Generative AI, Agentic AI, and other AI fields. \"\n",
    "        \"Begin the interview by directly asking the first question without waiting for any prior user input. \"\n",
    "        \"The interview will have exactly three questions not more than that after third question your role is completed you will get out of loop:\"\n",
    "        \"1. Ask the candidate to introduce themselves.\\n\"\n",
    "        \"2. Based on their first answer, ask a follow-up question.\\n\"\n",
    "        \"3. Ask one final question based on their second answer.\\n\"\n",
    "        \"Do not request prior answers before asking the first question.\"\n",
    "    )\n",
    ")\n"
   ]
  },
  {
   "cell_type": "code",
   "execution_count": 7,
   "id": "44bbb14e",
   "metadata": {},
   "outputs": [],
   "source": [
    "interviewee = UserProxyAgent(\n",
    "    name ='UserProxy',\n",
    "    description='you are a user proxy agent',\n",
    "    input_func=input\n",
    ")\n",
    "\n",
    "termination_condition = TextMentionTermination(text='APPROVE')"
   ]
  },
  {
   "cell_type": "code",
   "execution_count": 8,
   "id": "8eddec0b",
   "metadata": {},
   "outputs": [],
   "source": [
    "\n",
    "inner_team = RoundRobinGroupChat([interviewer, interviewee], termination_condition=termination_condition)\n"
   ]
  },
  {
   "cell_type": "code",
   "execution_count": 9,
   "id": "19eb6845",
   "metadata": {},
   "outputs": [],
   "source": [
    "society_of_mind_agent = SocietyOfMindAgent(\n",
    "    name=\"society_of_mind\",\n",
    "    team=inner_team, \n",
    "    model_client=model_client\n",
    "    )"
   ]
  },
  {
   "cell_type": "code",
   "execution_count": 10,
   "id": "4ac3ebf6",
   "metadata": {},
   "outputs": [],
   "source": [
    "Validator = AssistantAgent(\n",
    "    name=\"assistant3\",\n",
    "    model_client=model_client,\n",
    "    system_message=(\n",
    "        \"You are a validator who ONLY speaks after the interviewer finishes all questions \"\n",
    "        \"and says: 'Interview conducted successfully.'\\n\"\n",
    "        \"When you receive the candidate's full set of answers, do the following:\\n\"\n",
    "        \"1. Check if the answers are correct and relevant.\\n\"\n",
    "        \"2. If correct but improvable, suggest specific improvements.\\n\"\n",
    "        \"3. If no improvements are needed, respond exactly with: 'Perfect, you are selected.'\\n\"\n",
    "        \"Once you respond, terminate the process — do not continue the conversation.\"\n",
    "    )\n",
    ")\n"
   ]
  },
  {
   "cell_type": "code",
   "execution_count": 11,
   "id": "cbb3f12e",
   "metadata": {},
   "outputs": [],
   "source": [
    "team = RoundRobinGroupChat([society_of_mind_agent, Validator], max_turns=10)"
   ]
  },
  {
   "cell_type": "code",
   "execution_count": null,
   "id": "23407d2a",
   "metadata": {},
   "outputs": [
    {
     "name": "stdout",
     "output_type": "stream",
     "text": [
      "---------- TextMessage (user) ----------\n",
      "Conduct a short interview\n"
     ]
    }
   ],
   "source": [
    "stream = team.run_stream(task = \"Conduct a short interview\")\n",
    "await Console(stream)"
   ]
  },
  {
   "cell_type": "code",
   "execution_count": null,
   "id": "256bc963",
   "metadata": {},
   "outputs": [],
   "source": []
  },
  {
   "cell_type": "code",
   "execution_count": null,
   "id": "c59aa4ae",
   "metadata": {},
   "outputs": [],
   "source": []
  },
  {
   "cell_type": "code",
   "execution_count": null,
   "id": "1f80c246",
   "metadata": {},
   "outputs": [],
   "source": []
  },
  {
   "cell_type": "code",
   "execution_count": null,
   "id": "04b30cae",
   "metadata": {},
   "outputs": [],
   "source": []
  },
  {
   "cell_type": "code",
   "execution_count": null,
   "id": "da05cde5",
   "metadata": {},
   "outputs": [],
   "source": []
  },
  {
   "cell_type": "code",
   "execution_count": null,
   "id": "3c0a2195",
   "metadata": {},
   "outputs": [],
   "source": []
  }
 ],
 "metadata": {
  "kernelspec": {
   "display_name": "base",
   "language": "python",
   "name": "python3"
  },
  "language_info": {
   "codemirror_mode": {
    "name": "ipython",
    "version": 3
   },
   "file_extension": ".py",
   "mimetype": "text/x-python",
   "name": "python",
   "nbconvert_exporter": "python",
   "pygments_lexer": "ipython3",
   "version": "3.13.2"
  }
 },
 "nbformat": 4,
 "nbformat_minor": 5
}
